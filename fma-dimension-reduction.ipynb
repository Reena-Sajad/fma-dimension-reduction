{
 "cells": [
  {
   "cell_type": "markdown",
   "id": "62820995-f459-4ce7-aaab-8f6e53fb1130",
   "metadata": {},
   "source": [
    "# Assignment_4 Part 2 - Dimension Reduction of FMA\n",
    "**Group D - Members:**\n",
    "1. Venkateshprasad Kulkarni\n",
    "2. Reena Sajad Hyder\n",
    "3. Pravinkumar Yadav\n",
    "4. Milad Ghavami\n",
    "\n",
    "\n",
    "This assignment aims to explore and apply various dimension reduction techniques to the Free\n",
    "Music Archive (FMA) dataset. You will use different algorithms to reduce the dataset's\n",
    "dimensionality and visualize the results, comparing the effectiveness of each method.\n",
    "Additionally, you will examine the relationships between the reduced dimensions using\n",
    "correlation analysis\n",
    "\n",
    "As part of the assignment, we had to explore and apply various dimension reduction techniques to the Free Music Archive (FMA) dataset. Also, use different algorithms to reduce the dataset's dimensionality and visualize the results, comparing the effectiveness of each method. And, examine the relationships between the reduced dimensions using correlation analysis. The analysis consists of the following tasks:\n",
    "1. Data Preparation\n",
    "2. Dimension Reduction Techniques\n",
    "3. Visualization\n",
    "4. Correlation Analysis\n",
    "5. Comparative Analysis"
   ]
  },
  {
   "cell_type": "markdown",
   "id": "87e99806-1f17-4aa6-af78-acc22c3e524f",
   "metadata": {},
   "source": [
    "# Loading the data"
   ]
  },
  {
   "cell_type": "markdown",
   "id": "264759e5-7145-4a55-bb50-cc9653f06bfe",
   "metadata": {},
   "source": [
    "# Task 1: Data Preparation"
   ]
  },
  {
   "cell_type": "code",
   "execution_count": null,
   "id": "0f2dad2f-67ca-4f25-aa8f-5363e535a3c1",
   "metadata": {},
   "outputs": [],
   "source": []
  },
  {
   "cell_type": "markdown",
   "id": "70c6d753-6079-486b-b2ce-ef5188d69fe5",
   "metadata": {},
   "source": [
    "# Task 2: Dimension Reduction Techniques"
   ]
  },
  {
   "cell_type": "code",
   "execution_count": null,
   "id": "fbcbd97e-a8a0-4557-a949-a84068649a40",
   "metadata": {},
   "outputs": [],
   "source": []
  },
  {
   "cell_type": "markdown",
   "id": "03413ec4-9ad0-4153-8ccf-3f7ba5242b64",
   "metadata": {},
   "source": [
    "# Task 3: Visualization"
   ]
  },
  {
   "cell_type": "code",
   "execution_count": null,
   "id": "6323e95c-69ed-4394-8e07-222cc3e14299",
   "metadata": {},
   "outputs": [],
   "source": []
  },
  {
   "cell_type": "markdown",
   "id": "3854468c-5cbd-4f9e-bf0d-88ca6fec0847",
   "metadata": {},
   "source": [
    "# Task 4: Correlation Analysis"
   ]
  },
  {
   "cell_type": "code",
   "execution_count": null,
   "id": "74142ca3-f3df-4861-98f3-400609e60adc",
   "metadata": {},
   "outputs": [],
   "source": []
  },
  {
   "cell_type": "markdown",
   "id": "7ac895a8-c9a4-4821-bd15-5fa7388bba19",
   "metadata": {},
   "source": [
    "# Task 5: Comparative Analysis"
   ]
  },
  {
   "cell_type": "code",
   "execution_count": null,
   "id": "c6fb6b5d-5670-46d6-899a-be65697ad18f",
   "metadata": {},
   "outputs": [],
   "source": []
  }
 ],
 "metadata": {
  "kernelspec": {
   "display_name": "Python 3 (ipykernel)",
   "language": "python",
   "name": "python3"
  },
  "language_info": {
   "codemirror_mode": {
    "name": "ipython",
    "version": 3
   },
   "file_extension": ".py",
   "mimetype": "text/x-python",
   "name": "python",
   "nbconvert_exporter": "python",
   "pygments_lexer": "ipython3",
   "version": "3.12.3"
  }
 },
 "nbformat": 4,
 "nbformat_minor": 5
}
